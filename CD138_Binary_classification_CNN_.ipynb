{
  "nbformat": 4,
  "nbformat_minor": 0,
  "metadata": {
    "accelerator": "GPU",
    "colab": {
      "name": "CD138_Binary_classification_CNN .ipynb",
      "provenance": [],
      "collapsed_sections": [],
      "machine_shape": "hm",
      "include_colab_link": true
    },
    "kernelspec": {
      "display_name": "Python 3",
      "name": "python3"
    },
    "language_info": {
      "name": "python"
    }
  },
  "cells": [
    {
      "cell_type": "markdown",
      "metadata": {
        "id": "view-in-github",
        "colab_type": "text"
      },
      "source": [
        "<a href=\"https://colab.research.google.com/github/asamiei/plasma_cell_dyscrasia_marrow_quant/blob/main/CD138_Binary_classification_CNN_.ipynb\" target=\"_parent\"><img src=\"https://colab.research.google.com/assets/colab-badge.svg\" alt=\"Open In Colab\"/></a>"
      ]
    },
    {
      "cell_type": "markdown",
      "metadata": {
        "id": "j5HDgq7KY4QI"
      },
      "source": [
        "# Takes in a 40 x 40 image (RGB), and determines if it is CD138+(=1) or Negative(=0) \n",
        "# The cell should be roughly at the center, with a radius of ~25-35 pixels"
      ]
    },
    {
      "cell_type": "code",
      "metadata": {
        "colab": {
          "base_uri": "https://localhost:8080/"
        },
        "id": "Fm9Q3j9FA0Sh",
        "outputId": "1b62b71e-c349-4132-95a8-cebf1e30be21"
      },
      "source": [
        "from google.colab import drive\n",
        "drive.mount('/content/drive')"
      ],
      "execution_count": null,
      "outputs": [
        {
          "output_type": "stream",
          "name": "stdout",
          "text": [
            "Drive already mounted at /content/drive; to attempt to forcibly remount, call drive.mount(\"/content/drive\", force_remount=True).\n"
          ]
        }
      ]
    },
    {
      "cell_type": "code",
      "metadata": {
        "colab": {
          "base_uri": "https://localhost:8080/"
        },
        "id": "5DCUcny6S-o7",
        "outputId": "ee47085b-a100-4c69-fd16-59904f4e0e3c"
      },
      "source": [
        "import numpy as np\n",
        "import pandas as pd\n",
        "import matplotlib.pyplot as plt\n",
        "import cv2\n",
        "import scipy\n",
        "import glob\n",
        "\n",
        "import tensorflow as tf\n",
        "import matplotlib.pyplot as plt\n",
        "import os\n",
        "from PIL import Image\n",
        "import pickle\n",
        "import albumentations as A\n",
        "!pip install scikit-image==0.18.3\n",
        "from keras.preprocessing.image import ImageDataGenerator\n",
        "from keras.models import Sequential\n",
        "from keras.layers import Conv2D, MaxPooling2D, BatchNormalization\n",
        "from keras.layers import Activation, Dropout, Flatten, Dense\n",
        "!pip install segmentation-models\n",
        "%env SM_FRAMEWORK=tf.keras\n",
        "import segmentation_models as sm\n",
        "from keras.callbacks import EarlyStopping\n",
        "from keras.callbacks import ModelCheckpoint\n",
        "!pip install tensorflow-addons\n",
        "#!pip install -U albumentations"
      ],
      "execution_count": null,
      "outputs": [
        {
          "output_type": "stream",
          "name": "stdout",
          "text": [
            "Requirement already satisfied: scikit-image==0.18.3 in /usr/local/lib/python3.7/dist-packages (0.18.3)\n",
            "Requirement already satisfied: numpy>=1.16.5 in /usr/local/lib/python3.7/dist-packages (from scikit-image==0.18.3) (1.21.5)\n",
            "Requirement already satisfied: tifffile>=2019.7.26 in /usr/local/lib/python3.7/dist-packages (from scikit-image==0.18.3) (2021.11.2)\n",
            "Requirement already satisfied: scipy>=1.0.1 in /usr/local/lib/python3.7/dist-packages (from scikit-image==0.18.3) (1.4.1)\n",
            "Requirement already satisfied: PyWavelets>=1.1.1 in /usr/local/lib/python3.7/dist-packages (from scikit-image==0.18.3) (1.3.0)\n",
            "Requirement already satisfied: networkx>=2.0 in /usr/local/lib/python3.7/dist-packages (from scikit-image==0.18.3) (2.6.3)\n",
            "Requirement already satisfied: pillow!=7.1.0,!=7.1.1,>=4.3.0 in /usr/local/lib/python3.7/dist-packages (from scikit-image==0.18.3) (7.1.2)\n",
            "Requirement already satisfied: imageio>=2.3.0 in /usr/local/lib/python3.7/dist-packages (from scikit-image==0.18.3) (2.4.1)\n",
            "Requirement already satisfied: matplotlib!=3.0.0,>=2.0.0 in /usr/local/lib/python3.7/dist-packages (from scikit-image==0.18.3) (3.2.2)\n",
            "Requirement already satisfied: python-dateutil>=2.1 in /usr/local/lib/python3.7/dist-packages (from matplotlib!=3.0.0,>=2.0.0->scikit-image==0.18.3) (2.8.2)\n",
            "Requirement already satisfied: pyparsing!=2.0.4,!=2.1.2,!=2.1.6,>=2.0.1 in /usr/local/lib/python3.7/dist-packages (from matplotlib!=3.0.0,>=2.0.0->scikit-image==0.18.3) (3.0.8)\n",
            "Requirement already satisfied: kiwisolver>=1.0.1 in /usr/local/lib/python3.7/dist-packages (from matplotlib!=3.0.0,>=2.0.0->scikit-image==0.18.3) (1.4.2)\n",
            "Requirement already satisfied: cycler>=0.10 in /usr/local/lib/python3.7/dist-packages (from matplotlib!=3.0.0,>=2.0.0->scikit-image==0.18.3) (0.11.0)\n",
            "Requirement already satisfied: typing-extensions in /usr/local/lib/python3.7/dist-packages (from kiwisolver>=1.0.1->matplotlib!=3.0.0,>=2.0.0->scikit-image==0.18.3) (4.1.1)\n",
            "Requirement already satisfied: six>=1.5 in /usr/local/lib/python3.7/dist-packages (from python-dateutil>=2.1->matplotlib!=3.0.0,>=2.0.0->scikit-image==0.18.3) (1.15.0)\n",
            "Requirement already satisfied: segmentation-models in /usr/local/lib/python3.7/dist-packages (1.0.1)\n",
            "Requirement already satisfied: efficientnet==1.0.0 in /usr/local/lib/python3.7/dist-packages (from segmentation-models) (1.0.0)\n",
            "Requirement already satisfied: image-classifiers==1.0.0 in /usr/local/lib/python3.7/dist-packages (from segmentation-models) (1.0.0)\n",
            "Requirement already satisfied: keras-applications<=1.0.8,>=1.0.7 in /usr/local/lib/python3.7/dist-packages (from segmentation-models) (1.0.8)\n",
            "Requirement already satisfied: scikit-image in /usr/local/lib/python3.7/dist-packages (from efficientnet==1.0.0->segmentation-models) (0.18.3)\n",
            "Requirement already satisfied: h5py in /usr/local/lib/python3.7/dist-packages (from keras-applications<=1.0.8,>=1.0.7->segmentation-models) (3.1.0)\n",
            "Requirement already satisfied: numpy>=1.9.1 in /usr/local/lib/python3.7/dist-packages (from keras-applications<=1.0.8,>=1.0.7->segmentation-models) (1.21.5)\n",
            "Requirement already satisfied: cached-property in /usr/local/lib/python3.7/dist-packages (from h5py->keras-applications<=1.0.8,>=1.0.7->segmentation-models) (1.5.2)\n",
            "Requirement already satisfied: scipy>=1.0.1 in /usr/local/lib/python3.7/dist-packages (from scikit-image->efficientnet==1.0.0->segmentation-models) (1.4.1)\n",
            "Requirement already satisfied: matplotlib!=3.0.0,>=2.0.0 in /usr/local/lib/python3.7/dist-packages (from scikit-image->efficientnet==1.0.0->segmentation-models) (3.2.2)\n",
            "Requirement already satisfied: pillow!=7.1.0,!=7.1.1,>=4.3.0 in /usr/local/lib/python3.7/dist-packages (from scikit-image->efficientnet==1.0.0->segmentation-models) (7.1.2)\n",
            "Requirement already satisfied: PyWavelets>=1.1.1 in /usr/local/lib/python3.7/dist-packages (from scikit-image->efficientnet==1.0.0->segmentation-models) (1.3.0)\n",
            "Requirement already satisfied: networkx>=2.0 in /usr/local/lib/python3.7/dist-packages (from scikit-image->efficientnet==1.0.0->segmentation-models) (2.6.3)\n",
            "Requirement already satisfied: imageio>=2.3.0 in /usr/local/lib/python3.7/dist-packages (from scikit-image->efficientnet==1.0.0->segmentation-models) (2.4.1)\n",
            "Requirement already satisfied: tifffile>=2019.7.26 in /usr/local/lib/python3.7/dist-packages (from scikit-image->efficientnet==1.0.0->segmentation-models) (2021.11.2)\n",
            "Requirement already satisfied: cycler>=0.10 in /usr/local/lib/python3.7/dist-packages (from matplotlib!=3.0.0,>=2.0.0->scikit-image->efficientnet==1.0.0->segmentation-models) (0.11.0)\n",
            "Requirement already satisfied: kiwisolver>=1.0.1 in /usr/local/lib/python3.7/dist-packages (from matplotlib!=3.0.0,>=2.0.0->scikit-image->efficientnet==1.0.0->segmentation-models) (1.4.2)\n",
            "Requirement already satisfied: python-dateutil>=2.1 in /usr/local/lib/python3.7/dist-packages (from matplotlib!=3.0.0,>=2.0.0->scikit-image->efficientnet==1.0.0->segmentation-models) (2.8.2)\n",
            "Requirement already satisfied: pyparsing!=2.0.4,!=2.1.2,!=2.1.6,>=2.0.1 in /usr/local/lib/python3.7/dist-packages (from matplotlib!=3.0.0,>=2.0.0->scikit-image->efficientnet==1.0.0->segmentation-models) (3.0.8)\n",
            "Requirement already satisfied: typing-extensions in /usr/local/lib/python3.7/dist-packages (from kiwisolver>=1.0.1->matplotlib!=3.0.0,>=2.0.0->scikit-image->efficientnet==1.0.0->segmentation-models) (4.1.1)\n",
            "Requirement already satisfied: six>=1.5 in /usr/local/lib/python3.7/dist-packages (from python-dateutil>=2.1->matplotlib!=3.0.0,>=2.0.0->scikit-image->efficientnet==1.0.0->segmentation-models) (1.15.0)\n",
            "env: SM_FRAMEWORK=tf.keras\n",
            "Segmentation Models: using `tf.keras` framework.\n",
            "Requirement already satisfied: tensorflow-addons in /usr/local/lib/python3.7/dist-packages (0.16.1)\n",
            "Requirement already satisfied: typeguard>=2.7 in /usr/local/lib/python3.7/dist-packages (from tensorflow-addons) (2.7.1)\n"
          ]
        }
      ]
    },
    {
      "cell_type": "markdown",
      "metadata": {
        "id": "K_tZnMZwC1cO"
      },
      "source": [
        "# Creating Training Dataset"
      ]
    },
    {
      "cell_type": "code",
      "metadata": {
        "id": "cxT7eKcdWSXO"
      },
      "source": [
        "from albumentations import (\n",
        "    HorizontalFlip, ShiftScaleRotate, RandomRotate90,\n",
        "    Transpose, Flip, Compose, Rotate, OneOf, RandomBrightnessContrast)\n",
        "\n",
        "\n",
        "transform = A.Compose([\n",
        "                    A.HorizontalFlip(p=0.5), \n",
        "                    A.ShiftScaleRotate(p=0.75, scale_limit=0.3, shift_limit=0.20, rotate_limit=90),\n",
        "                    A.RandomRotate90(p=0.5),\n",
        "                    A.Rotate(p =0.5, limit=90, interpolation=cv2.INTER_CUBIC)\n",
        "                    ])\n",
        "\n",
        "\n",
        "def visualize(image):\n",
        "    plt.figure(figsize=(2,2))\n",
        "    plt.axis('on')\n",
        "    plt.imshow(image)"
      ],
      "execution_count": null,
      "outputs": []
    },
    {
      "cell_type": "code",
      "metadata": {
        "id": "uI370iIkqoSK"
      },
      "source": [
        "#!pip install scikit-image==0.18.3\n",
        "from skimage.color import rgb2hed, hed2rgb\n",
        "\n",
        "def Deconvolve_DAB(img):\n",
        "    # Separate the stains from the IHC image\n",
        "    ihc_hed = rgb2hed(img)\n",
        "\n",
        "    # Create an RGB image for each of the stains\n",
        "    null = np.zeros_like(ihc_hed[:, :, 0])\n",
        "    ihc_h = hed2rgb(np.stack((ihc_hed[:, :, 0], null, null), axis=-1))\n",
        "    ihc_e = hed2rgb(np.stack((null, ihc_hed[:, :, 1], null), axis=-1))\n",
        "    ihc_d = hed2rgb(np.stack((null, null, ihc_hed[:, :, 2]), axis=-1))\n",
        "    \n",
        "    #return img\n",
        "    return (ihc_d * 255).astype(np.uint8)\n"
      ],
      "execution_count": null,
      "outputs": []
    },
    {
      "cell_type": "code",
      "metadata": {
        "id": "mDFNYpnJtLbR"
      },
      "source": [
        "# Getting a list of images\n",
        "normal_images = glob.glob(\"/content/drive/MyDrive/CD138_project_individual_cells/Negative/*\")\n",
        "\n",
        "# Combining all the images into one numpy array\n",
        "normal_images_dataset = [cv2.resize(cv2.imread(fname), (40,40)) for fname in normal_images]\n",
        "normal_images_dataset = np.array([Deconvolve_DAB(cv2.cvtColor(image, cv2.COLOR_BGR2RGB)) for image in normal_images_dataset])\n",
        "\n",
        "\n",
        "# Storing/pickling\n",
        "#normal_images_dataset.dump('***.npy')"
      ],
      "execution_count": null,
      "outputs": []
    },
    {
      "cell_type": "code",
      "source": [
        "np.shape(normal_images_dataset)"
      ],
      "metadata": {
        "colab": {
          "base_uri": "https://localhost:8080/"
        },
        "id": "RCSwzASHSkzF",
        "outputId": "7405620d-a6ea-4340-9a02-1391e73272df"
      },
      "execution_count": null,
      "outputs": [
        {
          "output_type": "execute_result",
          "data": {
            "text/plain": [
              "(3129, 40, 40, 3)"
            ]
          },
          "metadata": {},
          "execution_count": 6
        }
      ]
    },
    {
      "cell_type": "code",
      "metadata": {
        "id": "PiUbyhTOrQRB"
      },
      "source": [
        "# Augmenting the dataset\n",
        "Aug_normal_images_dataset = []                 \n",
        "\n",
        "for k in range(5):\n",
        "    for i in range(np.size(normal_images_dataset, axis = 0)):\n",
        "        transformed = transform(image= normal_images_dataset[i,:,:,:].astype(np.uint8))\n",
        "        Aug_normal_images_dataset.append(transformed['image'])\n",
        "\n",
        "Aug_normal_images_dataset = np.array(Aug_normal_images_dataset)\n",
        "#visualize(transformed['image'])"
      ],
      "execution_count": null,
      "outputs": []
    },
    {
      "cell_type": "code",
      "metadata": {
        "id": "F1yUfNCZUsJK",
        "colab": {
          "base_uri": "https://localhost:8080/",
          "height": 176
        },
        "outputId": "aa11fcb8-cba0-4c86-abf4-bc50e3540ec0"
      },
      "source": [
        "plt.figure(figsize=(2,2))\n",
        "plt.imshow(Aug_normal_images_dataset[14])"
      ],
      "execution_count": null,
      "outputs": [
        {
          "output_type": "execute_result",
          "data": {
            "text/plain": [
              "<matplotlib.image.AxesImage at 0x7f6fc51c5f10>"
            ]
          },
          "metadata": {},
          "execution_count": 8
        },
        {
          "output_type": "display_data",
          "data": {
            "text/plain": [
              "<Figure size 144x144 with 1 Axes>"
            ],
            "image/png": "[encoded data removed]"
          },
          "metadata": {
            "needs_background": "light"
          }
        }
      ]
    },
    {
      "cell_type": "code",
      "metadata": {
        "id": "FsteZ4jjN1O0"
      },
      "source": [
        "normal_images_dataset = np.concatenate((normal_images_dataset, Aug_normal_images_dataset), axis = 0)"
      ],
      "execution_count": null,
      "outputs": []
    },
    {
      "cell_type": "code",
      "metadata": {
        "id": "GNDX71c2_cxn",
        "colab": {
          "base_uri": "https://localhost:8080/"
        },
        "outputId": "8fb42775-a8ff-4db3-c36d-1fcf3825789b"
      },
      "source": [
        "np.shape(normal_images_dataset)"
      ],
      "execution_count": null,
      "outputs": [
        {
          "output_type": "execute_result",
          "data": {
            "text/plain": [
              "(18774, 40, 40, 3)"
            ]
          },
          "metadata": {},
          "execution_count": 10
        }
      ]
    },
    {
      "cell_type": "code",
      "metadata": {
        "id": "3RiDpr9qCIyZ",
        "colab": {
          "base_uri": "https://localhost:8080/",
          "height": 176
        },
        "outputId": "d9515b80-80d9-49ef-9b79-69f1afd87276"
      },
      "source": [
        "plt.figure(figsize=(2,2))\n",
        "plt.imshow(normal_images_dataset[16])"
      ],
      "execution_count": null,
      "outputs": [
        {
          "output_type": "execute_result",
          "data": {
            "text/plain": [
              "<matplotlib.image.AxesImage at 0x7f6fc5396310>"
            ]
          },
          "metadata": {},
          "execution_count": 11
        },
        {
          "output_type": "display_data",
          "data": {
            "text/plain": [
              "<Figure size 144x144 with 1 Axes>"
            ],
            "image/png": "[encoded data removed]"
          },
          "metadata": {
            "needs_background": "light"
          }
        }
      ]
    },
    {
      "cell_type": "code",
      "metadata": {
        "id": "cFoq6-psU_67",
        "colab": {
          "base_uri": "https://localhost:8080/"
        },
        "outputId": "dbb0074e-d65f-4bd7-ff08-6a2e00d625c9"
      },
      "source": [
        "np.max(normal_images_dataset[6])"
      ],
      "execution_count": null,
      "outputs": [
        {
          "output_type": "execute_result",
          "data": {
            "text/plain": [
              "255"
            ]
          },
          "metadata": {},
          "execution_count": 12
        }
      ]
    },
    {
      "cell_type": "code",
      "metadata": {
        "id": "1ALSSAVytLVk"
      },
      "source": [
        "CD138_images = glob.glob(\"/content/drive/MyDrive/CD138_project_individual_cells/CD138/*\")\n",
        "\n",
        "# Combining all the images into one numpy array\n",
        "CD138_images_dataset = [cv2.resize(cv2.imread(fname), (40,40)) for fname in CD138_images]\n",
        "CD138_images_dataset = np.array([Deconvolve_DAB(cv2.cvtColor(image, cv2.COLOR_BGR2RGB)) for image in CD138_images_dataset])\n",
        "\n",
        "# Storing/pickling\n",
        "#CD138_images_dataset.dump('***.npy')"
      ],
      "execution_count": null,
      "outputs": []
    },
    {
      "cell_type": "code",
      "metadata": {
        "id": "WoBJc1Kzgbh_"
      },
      "source": [
        "larger_CD138_images_dataset = CD138_images_dataset"
      ],
      "execution_count": null,
      "outputs": []
    },
    {
      "cell_type": "code",
      "source": [
        "np.shape(larger_CD138_images_dataset)"
      ],
      "metadata": {
        "colab": {
          "base_uri": "https://localhost:8080/"
        },
        "id": "Wqty7fweKkhm",
        "outputId": "83c7f3c7-216f-4768-88b1-518460376f38"
      },
      "execution_count": null,
      "outputs": [
        {
          "output_type": "execute_result",
          "data": {
            "text/plain": [
              "(792, 40, 40, 3)"
            ]
          },
          "metadata": {},
          "execution_count": 15
        }
      ]
    },
    {
      "cell_type": "code",
      "metadata": {
        "id": "IdrcMOx3zA58",
        "colab": {
          "base_uri": "https://localhost:8080/",
          "height": 176
        },
        "outputId": "34e6a606-33c6-412b-f36e-52e7edc4f385"
      },
      "source": [
        "plt.figure(figsize=(2,2))\n",
        "plt.imshow(CD138_images_dataset[16])"
      ],
      "execution_count": null,
      "outputs": [
        {
          "output_type": "execute_result",
          "data": {
            "text/plain": [
              "<matplotlib.image.AxesImage at 0x7f6fc521a890>"
            ]
          },
          "metadata": {},
          "execution_count": 16
        },
        {
          "output_type": "display_data",
          "data": {
            "text/plain": [
              "<Figure size 144x144 with 1 Axes>"
            ],
            "image/png": "[encoded data removed]"
          },
          "metadata": {
            "needs_background": "light"
          }
        }
      ]
    },
    {
      "cell_type": "code",
      "metadata": {
        "id": "pp_2Z5Y5ONXx"
      },
      "source": [
        "# Augmenting the dataset\n",
        "Aug_larger_CD138_images_dataset = []                 \n",
        "\n",
        "for k in range(18):\n",
        "    for i in range(np.size(larger_CD138_images_dataset, axis = 0)):\n",
        "        transformed = transform(image= larger_CD138_images_dataset[i,:,:,:].astype(np.uint8))\n",
        "        Aug_larger_CD138_images_dataset.append(transformed['image'])\n",
        "\n",
        "Aug_larger_CD138_images_dataset = np.array(Aug_larger_CD138_images_dataset)\n",
        "#visualize(transformed['image'])"
      ],
      "execution_count": null,
      "outputs": []
    },
    {
      "cell_type": "code",
      "metadata": {
        "id": "PGQPxGiTPQX3"
      },
      "source": [
        "larger_CD138_images_dataset = np.concatenate((larger_CD138_images_dataset, Aug_larger_CD138_images_dataset), axis = 0)"
      ],
      "execution_count": null,
      "outputs": []
    },
    {
      "cell_type": "code",
      "metadata": {
        "id": "wsvkzNGftLP2",
        "colab": {
          "base_uri": "https://localhost:8080/"
        },
        "outputId": "d818e89e-bbe8-49d2-d5d9-b5bbf00b3bbe"
      },
      "source": [
        "np.shape(larger_CD138_images_dataset)"
      ],
      "execution_count": null,
      "outputs": [
        {
          "output_type": "execute_result",
          "data": {
            "text/plain": [
              "(15048, 40, 40, 3)"
            ]
          },
          "metadata": {},
          "execution_count": 19
        }
      ]
    },
    {
      "cell_type": "code",
      "metadata": {
        "id": "L4yY4Utn4MB5",
        "colab": {
          "base_uri": "https://localhost:8080/",
          "height": 176
        },
        "outputId": "a7c23513-098c-4a76-f786-1eb79a3a9673"
      },
      "source": [
        "plt.figure(figsize=(2,2))\n",
        "plt.imshow(larger_CD138_images_dataset[3])"
      ],
      "execution_count": null,
      "outputs": [
        {
          "output_type": "execute_result",
          "data": {
            "text/plain": [
              "<matplotlib.image.AxesImage at 0x7f6fc5278950>"
            ]
          },
          "metadata": {},
          "execution_count": 20
        },
        {
          "output_type": "display_data",
          "data": {
            "text/plain": [
              "<Figure size 144x144 with 1 Axes>"
            ],
            "image/png": "[encoded data removed]"
          },
          "metadata": {
            "needs_background": "light"
          }
        }
      ]
    },
    {
      "cell_type": "code",
      "metadata": {
        "id": "hal1mKwnkaNf"
      },
      "source": [
        "# Combining normal and CD138 images\n",
        "combined_image_dataset = np.concatenate((normal_images_dataset, larger_CD138_images_dataset), axis = 0).astype(np.uint16)"
      ],
      "execution_count": null,
      "outputs": []
    },
    {
      "cell_type": "code",
      "metadata": {
        "id": "tQJOd1Blpz3Q",
        "colab": {
          "base_uri": "https://localhost:8080/"
        },
        "outputId": "d4ad9d47-8fff-4e86-a1d2-3596976f9755"
      },
      "source": [
        "np.shape(combined_image_dataset)"
      ],
      "execution_count": null,
      "outputs": [
        {
          "output_type": "execute_result",
          "data": {
            "text/plain": [
              "(33822, 40, 40, 3)"
            ]
          },
          "metadata": {},
          "execution_count": 22
        }
      ]
    },
    {
      "cell_type": "code",
      "metadata": {
        "id": "oWX0St-DtLM_"
      },
      "source": [
        "# Assigning a label to each image\n",
        "    # 0 = Normal\n",
        "    # 1 = CD138\n",
        "normal_label = np.zeros((np.size(normal_images_dataset, axis = 0)))\n",
        "\n",
        "CD138_label = np.ones((np.size(larger_CD138_images_dataset, axis = 0)))\n",
        "\n",
        "combined_label_dataset = np.concatenate((normal_label, CD138_label))"
      ],
      "execution_count": null,
      "outputs": []
    },
    {
      "cell_type": "code",
      "metadata": {
        "id": "yYebvTV7QVOF",
        "colab": {
          "base_uri": "https://localhost:8080/"
        },
        "outputId": "66eb95b4-9e66-417d-9e2d-1ac74bbd7107"
      },
      "source": [
        "np.shape(combined_label_dataset)"
      ],
      "execution_count": null,
      "outputs": [
        {
          "output_type": "execute_result",
          "data": {
            "text/plain": [
              "(33822,)"
            ]
          },
          "metadata": {},
          "execution_count": 24
        }
      ]
    },
    {
      "cell_type": "code",
      "metadata": {
        "id": "Y8dGsTShLAyg",
        "colab": {
          "base_uri": "https://localhost:8080/",
          "height": 176
        },
        "outputId": "9db7524d-6998-4dbe-a63f-d0b402a0aa6d"
      },
      "source": [
        "plt.figure(figsize=(2,2))\n",
        "img_ = combined_image_dataset[4]\n",
        "plt.imshow(img_)\n",
        "plt.show()\n",
        "combined_label_dataset[4]"
      ],
      "execution_count": null,
      "outputs": [
        {
          "output_type": "display_data",
          "data": {
            "text/plain": [
              "<Figure size 144x144 with 1 Axes>"
            ],
            "image/png": "[encoded data removed]"
          },
          "metadata": {
            "needs_background": "light"
          }
        },
        {
          "output_type": "execute_result",
          "data": {
            "text/plain": [
              "0.0"
            ]
          },
          "metadata": {},
          "execution_count": 25
        }
      ]
    },
    {
      "cell_type": "markdown",
      "metadata": {
        "id": "VU4AlA1BCvB5"
      },
      "source": [
        "# Creating Validation Dataset"
      ]
    },
    {
      "cell_type": "code",
      "metadata": {
        "id": "t6owHtXlC7AY"
      },
      "source": [
        "# Getting a list of images\n",
        "val_normal_images = glob.glob(\"/content/drive/MyDrive/CD138_project_individual_cells/Validation/Negative_Val/*\")\n",
        "\n",
        "# Combining all the images into one numpy array\n",
        "val_normal_images_dataset = [cv2.resize(cv2.imread(fname), (40,40)) for fname in val_normal_images]\n",
        "val_normal_images_dataset = np.array([Deconvolve_DAB(cv2.cvtColor(image, cv2.COLOR_BGR2RGB)) for image in val_normal_images_dataset])\n"
      ],
      "execution_count": null,
      "outputs": []
    },
    {
      "cell_type": "code",
      "metadata": {
        "id": "ApLwZ1FfDxb9",
        "colab": {
          "base_uri": "https://localhost:8080/"
        },
        "outputId": "98f684ac-1b72-4f93-9e39-5fb7370f4925"
      },
      "source": [
        "np.shape(val_normal_images_dataset)"
      ],
      "execution_count": null,
      "outputs": [
        {
          "output_type": "execute_result",
          "data": {
            "text/plain": [
              "(220, 40, 40, 3)"
            ]
          },
          "metadata": {},
          "execution_count": 27
        }
      ]
    },
    {
      "cell_type": "code",
      "metadata": {
        "id": "ld4E3B51AIDn",
        "colab": {
          "base_uri": "https://localhost:8080/",
          "height": 159
        },
        "outputId": "99442b15-aeb0-493d-c6bf-8c5255ae6546"
      },
      "source": [
        "plt.figure(figsize=(2,2))\n",
        "plt.imshow(val_normal_images_dataset[3])\n",
        "plt.show()"
      ],
      "execution_count": null,
      "outputs": [
        {
          "output_type": "display_data",
          "data": {
            "text/plain": [
              "<Figure size 144x144 with 1 Axes>"
            ],
            "image/png": "[encoded data removed]"
          },
          "metadata": {
            "needs_background": "light"
          }
        }
      ]
    },
    {
      "cell_type": "code",
      "metadata": {
        "id": "ocrFCY-zC69w"
      },
      "source": [
        "val_CD138_images = glob.glob(\"/content/drive/MyDrive/CD138_project_individual_cells/Validation/CD138_val/*\")\n",
        "\n",
        "\n",
        "\n",
        "# Combining all the images into one numpy array\n",
        "val_CD138_images_dataset = [cv2.resize(cv2.imread(fname), (40,40)) for fname in val_CD138_images]\n",
        "val_CD138_images_dataset = np.array([Deconvolve_DAB(cv2.cvtColor(image, cv2.COLOR_BGR2RGB)) for image in val_CD138_images_dataset])\n"
      ],
      "execution_count": null,
      "outputs": []
    },
    {
      "cell_type": "code",
      "metadata": {
        "id": "8mtFYu-CC67Z",
        "colab": {
          "base_uri": "https://localhost:8080/"
        },
        "outputId": "c8367aba-3e4e-4f8f-ac9c-b52a1e9c1ae6"
      },
      "source": [
        "np.shape(val_CD138_images_dataset)"
      ],
      "execution_count": null,
      "outputs": [
        {
          "output_type": "execute_result",
          "data": {
            "text/plain": [
              "(143, 40, 40, 3)"
            ]
          },
          "metadata": {},
          "execution_count": 30
        }
      ]
    },
    {
      "cell_type": "code",
      "metadata": {
        "id": "cCtWFyHpC64-"
      },
      "source": [
        "# Combining normal and CD138 validation images\n",
        "val_combined_image_dataset = np.concatenate((val_normal_images_dataset, val_CD138_images_dataset), axis = 0).astype(np.uint16)"
      ],
      "execution_count": null,
      "outputs": []
    },
    {
      "cell_type": "code",
      "metadata": {
        "id": "DASZtmYqD0Rq"
      },
      "source": [
        "# Assigning a label to each image\n",
        "    # 0 = Normal\n",
        "    # 1 = CD138\n",
        "val_normal_label = np.zeros((np.size(val_normal_images_dataset, axis = 0)))\n",
        "\n",
        "val_CD138_label = np.ones((np.size(val_CD138_images_dataset, axis = 0)))\n",
        "\n",
        "val_combined_label_dataset = np.concatenate((val_normal_label, val_CD138_label))"
      ],
      "execution_count": null,
      "outputs": []
    },
    {
      "cell_type": "code",
      "metadata": {
        "id": "tqY6vg3MD0Of",
        "colab": {
          "base_uri": "https://localhost:8080/"
        },
        "outputId": "9a3bcd0c-b22b-484e-d557-59ee5d7cf0ea"
      },
      "source": [
        "np.shape(val_combined_label_dataset)"
      ],
      "execution_count": null,
      "outputs": [
        {
          "output_type": "execute_result",
          "data": {
            "text/plain": [
              "(363,)"
            ]
          },
          "metadata": {},
          "execution_count": 33
        }
      ]
    },
    {
      "cell_type": "code",
      "metadata": {
        "id": "A1Sd9vZ6EuFA",
        "colab": {
          "base_uri": "https://localhost:8080/",
          "height": 176
        },
        "outputId": "dcfa7d61-0398-41b9-a277-9f521d0b5b33"
      },
      "source": [
        "plt.figure(figsize=(2,2))\n",
        "img_ = val_combined_image_dataset[50]\n",
        "plt.imshow(img_)\n",
        "plt.show()\n",
        "val_combined_label_dataset[50]"
      ],
      "execution_count": null,
      "outputs": [
        {
          "output_type": "display_data",
          "data": {
            "text/plain": [
              "<Figure size 144x144 with 1 Axes>"
            ],
            "image/png": "[encoded data removed]"
          },
          "metadata": {
            "needs_background": "light"
          }
        },
        {
          "output_type": "execute_result",
          "data": {
            "text/plain": [
              "0.0"
            ]
          },
          "metadata": {},
          "execution_count": 34
        }
      ]
    },
    {
      "cell_type": "markdown",
      "metadata": {
        "id": "4XdWSIfJEycd"
      },
      "source": [
        "# CNN"
      ]
    },
    {
      "cell_type": "code",
      "metadata": {
        "id": "P2pFqNVbCMxo",
        "colab": {
          "base_uri": "https://localhost:8080/"
        },
        "outputId": "39e24ff4-5338-4035-e43b-1b869c800312"
      },
      "source": [
        "SIZE = 40\n",
        "\n",
        "#Use customary x_train and y_train variables\n",
        "x_train = combined_image_dataset\n",
        "y_train = combined_label_dataset\n",
        "\n",
        "x_val = val_combined_image_dataset\n",
        "y_val = val_combined_label_dataset \n",
        "\n",
        "# from sklearn.model_selection import train_test_split\n",
        "# x_train, x_val, y_train, y_val = train_test_split(X, Y, test_size=0.3, random_state=42)\n",
        "\n",
        "\n",
        "INPUT_SHAPE = (SIZE, SIZE, 3)   #change to (SIZE, SIZE, 3)\n",
        "\n",
        "\n",
        "model = Sequential()\n",
        "model.add(Conv2D(32, (3, 3), input_shape=INPUT_SHAPE))\n",
        "model.add(BatchNormalization())\n",
        "model.add(Activation('relu'))\n",
        "model.add(MaxPooling2D(pool_size=(2, 2)))\n",
        "\n",
        "model.add(Conv2D(64, (3, 3), kernel_initializer = 'he_uniform'))\n",
        "model.add(BatchNormalization())\n",
        "model.add(Activation('relu'))\n",
        "model.add(MaxPooling2D(pool_size=(2, 2)))\n",
        "\n",
        "\n",
        "model.add(Conv2D(128, (3, 3), kernel_initializer = 'he_uniform'))\n",
        "model.add(BatchNormalization())\n",
        "model.add(Activation('relu'))\n",
        "model.add(MaxPooling2D(pool_size=(2, 2)))\n",
        "\n",
        "\n",
        "model.add(Conv2D(64, (3, 3), kernel_initializer = 'he_uniform'))\n",
        "model.add(BatchNormalization())\n",
        "model.add(Activation('relu'))\n",
        "model.add(MaxPooling2D((2,2), padding='same'))\n",
        "\n",
        "model.add(Flatten())\n",
        "model.add(Dense(64))\n",
        "model.add(BatchNormalization())\n",
        "model.add(Activation('relu'))\n",
        "\n",
        "model.add(Dense(1))\n",
        "model.add(Activation('sigmoid'))  \n",
        "\n",
        "\n",
        "\n",
        "model.compile(loss='binary_crossentropy',\n",
        "              optimizer='adam',             \n",
        "              metrics= ['accuracy'])\n",
        "\n",
        "print(model.summary())     \n",
        "\n",
        "\n",
        "\n",
        "\n",
        "##########################################################\n",
        "\n",
        "es = EarlyStopping(monitor='val_accuracy', mode='max', verbose=0, patience= 75, restore_best_weights= True)\n",
        "mc = ModelCheckpoint('/content/drive/MyDrive/Colab Notebooks/saved_models/CD138_Binary_classification_40x40_April_14th.h5', monitor='val_accuracy', mode='max', verbose=0, save_best_only=True)\n",
        "\n",
        "\n",
        "\n",
        "history = model.fit(x_train, \n",
        "                         y_train, \n",
        "                         batch_size = 64, \n",
        "                         verbose = 1, \n",
        "                         epochs = 300,      \n",
        "                         validation_data=(x_val,y_val),\n",
        "                         callbacks=[es, mc],\n",
        "                         shuffle = True\n",
        "                     )\n",
        "\n"
      ],
      "execution_count": null,
      "outputs": [
        {
          "output_type": "stream",
          "name": "stdout",
          "text": [
            "Model: \"sequential\"\n",
            "_________________________________________________________________\n",
            " Layer (type)                Output Shape              Param #   \n",
            "=================================================================\n",
            " conv2d (Conv2D)             (None, 38, 38, 32)        896       \n",
            "                                                                 \n",
            " batch_normalization (BatchN  (None, 38, 38, 32)       128       \n",
            " ormalization)                                                   \n",
            "                                                                 \n",
            " activation (Activation)     (None, 38, 38, 32)        0         \n",
            "                                                                 \n",
            " max_pooling2d (MaxPooling2D  (None, 19, 19, 32)       0         \n",
            " )                                                               \n",
            "                                                                 \n",
            " conv2d_1 (Conv2D)           (None, 17, 17, 64)        18496     \n",
            "                                                                 \n",
            " batch_normalization_1 (Batc  (None, 17, 17, 64)       256       \n",
            " hNormalization)                                                 \n",
            "                                                                 \n",
            " activation_1 (Activation)   (None, 17, 17, 64)        0         \n",
            "                                                                 \n",
            " max_pooling2d_1 (MaxPooling  (None, 8, 8, 64)         0         \n",
            " 2D)                                                             \n",
            "                                                                 \n",
            " conv2d_2 (Conv2D)           (None, 6, 6, 128)         73856     \n",
            "                                                                 \n",
            " batch_normalization_2 (Batc  (None, 6, 6, 128)        512       \n",
            " hNormalization)                                                 \n",
            "                                                                 \n",
            " activation_2 (Activation)   (None, 6, 6, 128)         0         \n",
            "                                                                 \n",
            " max_pooling2d_2 (MaxPooling  (None, 3, 3, 128)        0         \n",
            " 2D)                                                             \n",
            "                                                                 \n",
            " conv2d_3 (Conv2D)           (None, 1, 1, 64)          73792     \n",
            "                                                                 \n",
            " batch_normalization_3 (Batc  (None, 1, 1, 64)         256       \n",
            " hNormalization)                                                 \n",
            "                                                                 \n",
            " activation_3 (Activation)   (None, 1, 1, 64)          0         \n",
            "                                                                 \n",
            " max_pooling2d_3 (MaxPooling  (None, 1, 1, 64)         0         \n",
            " 2D)                                                             \n",
            "                                                                 \n",
            " flatten (Flatten)           (None, 64)                0         \n",
            "                                                                 \n",
            " dense (Dense)               (None, 64)                4160      \n",
            "                                                                 \n",
            " batch_normalization_4 (Batc  (None, 64)               256       \n",
            " hNormalization)                                                 \n",
            "                                                                 \n",
            " activation_4 (Activation)   (None, 64)                0         \n",
            "                                                                 \n",
            " dense_1 (Dense)             (None, 1)                 65        \n",
            "                                                                 \n",
            " activation_5 (Activation)   (None, 1)                 0         \n",
            "                                                                 \n",
            "=================================================================\n",
            "Total params: 172,673\n",
            "Trainable params: 171,969\n",
            "Non-trainable params: 704\n",
            "_________________________________________________________________\n",
            "None\n",
            "Epoch 1/300\n",
            "529/529 [==============================] - 8s 9ms/step - loss: 0.1928 - accuracy: 0.9201 - val_loss: 0.2554 - val_accuracy: 0.8926\n",
            "Epoch 2/300\n",
            "529/529 [==============================] - 4s 8ms/step - loss: 0.1598 - accuracy: 0.9343 - val_loss: 0.2181 - val_accuracy: 0.9008\n",
            "Epoch 3/300\n",
            "529/529 [==============================] - 4s 8ms/step - loss: 0.1444 - accuracy: 0.9395 - val_loss: 0.2094 - val_accuracy: 0.9174\n",
            "Epoch 4/300\n",
            "529/529 [==============================] - 4s 8ms/step - loss: 0.1314 - accuracy: 0.9460 - val_loss: 0.2635 - val_accuracy: 0.9118\n",
            "Epoch 5/300\n",
            "529/529 [==============================] - 4s 8ms/step - loss: 0.1248 - accuracy: 0.9471 - val_loss: 0.3533 - val_accuracy: 0.8760\n",
            "Epoch 6/300\n",
            "529/529 [==============================] - 4s 8ms/step - loss: 0.1122 - accuracy: 0.9542 - val_loss: 0.3283 - val_accuracy: 0.8898\n",
            "Epoch 7/300\n",
            "529/529 [==============================] - 4s 7ms/step - loss: 0.1050 - accuracy: 0.9575 - val_loss: 0.2049 - val_accuracy: 0.9146\n",
            "Epoch 8/300\n",
            "529/529 [==============================] - 4s 7ms/step - loss: 0.0947 - accuracy: 0.9614 - val_loss: 0.3450 - val_accuracy: 0.8705\n",
            "Epoch 9/300\n",
            "529/529 [==============================] - 4s 8ms/step - loss: 0.0861 - accuracy: 0.9656 - val_loss: 0.3378 - val_accuracy: 0.8981\n",
            "Epoch 10/300\n",
            "529/529 [==============================] - 4s 8ms/step - loss: 0.0732 - accuracy: 0.9715 - val_loss: 0.2500 - val_accuracy: 0.9118\n",
            "Epoch 11/300\n",
            "529/529 [==============================] - 5s 9ms/step - loss: 0.0700 - accuracy: 0.9725 - val_loss: 0.9488 - val_accuracy: 0.5730\n",
            "Epoch 12/300\n",
            "529/529 [==============================] - 5s 9ms/step - loss: 0.0590 - accuracy: 0.9770 - val_loss: 0.7296 - val_accuracy: 0.7961\n",
            "Epoch 13/300\n",
            "529/529 [==============================] - 4s 8ms/step - loss: 0.0505 - accuracy: 0.9802 - val_loss: 0.2816 - val_accuracy: 0.8953\n",
            "Epoch 14/300\n",
            "529/529 [==============================] - 4s 8ms/step - loss: 0.0445 - accuracy: 0.9832 - val_loss: 0.4099 - val_accuracy: 0.9091\n",
            "Epoch 15/300\n",
            "529/529 [==============================] - 4s 8ms/step - loss: 0.0368 - accuracy: 0.9862 - val_loss: 0.2776 - val_accuracy: 0.9229\n",
            "Epoch 16/300\n",
            "529/529 [==============================] - 4s 8ms/step - loss: 0.0348 - accuracy: 0.9869 - val_loss: 0.2544 - val_accuracy: 0.9201\n",
            "Epoch 17/300\n",
            "529/529 [==============================] - 4s 8ms/step - loss: 0.0304 - accuracy: 0.9889 - val_loss: 0.4807 - val_accuracy: 0.8815\n",
            "Epoch 18/300\n",
            "529/529 [==============================] - 4s 7ms/step - loss: 0.0295 - accuracy: 0.9896 - val_loss: 0.2836 - val_accuracy: 0.9174\n",
            "Epoch 19/300\n",
            "529/529 [==============================] - 4s 7ms/step - loss: 0.0267 - accuracy: 0.9903 - val_loss: 0.3222 - val_accuracy: 0.9229\n",
            "Epoch 20/300\n",
            "529/529 [==============================] - 4s 7ms/step - loss: 0.0220 - accuracy: 0.9921 - val_loss: 0.3590 - val_accuracy: 0.9063\n",
            "Epoch 21/300\n",
            "529/529 [==============================] - 4s 8ms/step - loss: 0.0202 - accuracy: 0.9927 - val_loss: 0.3125 - val_accuracy: 0.9394\n",
            "Epoch 22/300\n",
            "529/529 [==============================] - 4s 7ms/step - loss: 0.0224 - accuracy: 0.9914 - val_loss: 0.5137 - val_accuracy: 0.8926\n",
            "Epoch 23/300\n",
            "529/529 [==============================] - 4s 7ms/step - loss: 0.0171 - accuracy: 0.9938 - val_loss: 0.4704 - val_accuracy: 0.9008\n",
            "Epoch 24/300\n",
            "529/529 [==============================] - 4s 8ms/step - loss: 0.0200 - accuracy: 0.9928 - val_loss: 0.4792 - val_accuracy: 0.8760\n",
            "Epoch 25/300\n",
            "529/529 [==============================] - 4s 8ms/step - loss: 0.0181 - accuracy: 0.9935 - val_loss: 0.3345 - val_accuracy: 0.9118\n",
            "Epoch 26/300\n",
            "529/529 [==============================] - 4s 8ms/step - loss: 0.0154 - accuracy: 0.9943 - val_loss: 0.4266 - val_accuracy: 0.9008\n",
            "Epoch 27/300\n",
            "529/529 [==============================] - 4s 8ms/step - loss: 0.0156 - accuracy: 0.9945 - val_loss: 0.3665 - val_accuracy: 0.9091\n",
            "Epoch 28/300\n",
            "529/529 [==============================] - 4s 8ms/step - loss: 0.0144 - accuracy: 0.9948 - val_loss: 0.4375 - val_accuracy: 0.9118\n",
            "Epoch 29/300\n",
            "529/529 [==============================] - 4s 8ms/step - loss: 0.0128 - accuracy: 0.9952 - val_loss: 0.4967 - val_accuracy: 0.8981\n",
            "Epoch 30/300\n",
            "529/529 [==============================] - 4s 8ms/step - loss: 0.0140 - accuracy: 0.9954 - val_loss: 0.4050 - val_accuracy: 0.9008\n",
            "Epoch 31/300\n",
            "529/529 [==============================] - 4s 8ms/step - loss: 0.0127 - accuracy: 0.9952 - val_loss: 0.5269 - val_accuracy: 0.8981\n",
            "Epoch 32/300\n",
            "529/529 [==============================] - 4s 8ms/step - loss: 0.0132 - accuracy: 0.9955 - val_loss: 0.3211 - val_accuracy: 0.9284\n",
            "Epoch 33/300\n",
            "529/529 [==============================] - 4s 7ms/step - loss: 0.0113 - accuracy: 0.9960 - val_loss: 0.6304 - val_accuracy: 0.8843\n",
            "Epoch 34/300\n",
            "529/529 [==============================] - 4s 8ms/step - loss: 0.0100 - accuracy: 0.9964 - val_loss: 0.8059 - val_accuracy: 0.9091\n",
            "Epoch 35/300\n",
            "529/529 [==============================] - 4s 8ms/step - loss: 0.0100 - accuracy: 0.9964 - val_loss: 0.5211 - val_accuracy: 0.9146\n",
            "Epoch 36/300\n",
            "529/529 [==============================] - 4s 8ms/step - loss: 0.0077 - accuracy: 0.9978 - val_loss: 0.5091 - val_accuracy: 0.9146\n",
            "Epoch 37/300\n",
            "529/529 [==============================] - 4s 8ms/step - loss: 0.0111 - accuracy: 0.9961 - val_loss: 0.5151 - val_accuracy: 0.8981\n",
            "Epoch 38/300\n",
            "529/529 [==============================] - 4s 8ms/step - loss: 0.0120 - accuracy: 0.9959 - val_loss: 0.3551 - val_accuracy: 0.9201\n",
            "Epoch 39/300\n",
            "529/529 [==============================] - 4s 8ms/step - loss: 0.0081 - accuracy: 0.9974 - val_loss: 0.5227 - val_accuracy: 0.9118\n",
            "Epoch 40/300\n",
            "529/529 [==============================] - 4s 8ms/step - loss: 0.0099 - accuracy: 0.9967 - val_loss: 0.4893 - val_accuracy: 0.9201\n",
            "Epoch 41/300\n",
            "529/529 [==============================] - 4s 8ms/step - loss: 0.0104 - accuracy: 0.9968 - val_loss: 0.4481 - val_accuracy: 0.9229\n",
            "Epoch 42/300\n",
            "529/529 [==============================] - 4s 8ms/step - loss: 0.0072 - accuracy: 0.9974 - val_loss: 0.5222 - val_accuracy: 0.9284\n",
            "Epoch 43/300\n",
            "529/529 [==============================] - 4s 8ms/step - loss: 0.0130 - accuracy: 0.9954 - val_loss: 0.5529 - val_accuracy: 0.9091\n",
            "Epoch 44/300\n",
            "529/529 [==============================] - 4s 7ms/step - loss: 0.0072 - accuracy: 0.9977 - val_loss: 0.4091 - val_accuracy: 0.9256\n",
            "Epoch 45/300\n",
            "529/529 [==============================] - 4s 8ms/step - loss: 0.0059 - accuracy: 0.9978 - val_loss: 0.4448 - val_accuracy: 0.9118\n",
            "Epoch 46/300\n",
            "529/529 [==============================] - 4s 8ms/step - loss: 0.0049 - accuracy: 0.9986 - val_loss: 0.5831 - val_accuracy: 0.8926\n",
            "Epoch 47/300\n",
            "529/529 [==============================] - 4s 8ms/step - loss: 0.0102 - accuracy: 0.9962 - val_loss: 0.5859 - val_accuracy: 0.8981\n",
            "Epoch 48/300\n",
            "529/529 [==============================] - 4s 8ms/step - loss: 0.0093 - accuracy: 0.9968 - val_loss: 0.4997 - val_accuracy: 0.9174\n",
            "Epoch 49/300\n",
            "529/529 [==============================] - 4s 8ms/step - loss: 0.0078 - accuracy: 0.9969 - val_loss: 0.5214 - val_accuracy: 0.9091\n",
            "Epoch 50/300\n",
            "529/529 [==============================] - 4s 8ms/step - loss: 0.0053 - accuracy: 0.9982 - val_loss: 0.4625 - val_accuracy: 0.9146\n",
            "Epoch 51/300\n",
            "529/529 [==============================] - 4s 8ms/step - loss: 0.0083 - accuracy: 0.9966 - val_loss: 1.0993 - val_accuracy: 0.8788\n",
            "Epoch 52/300\n",
            "529/529 [==============================] - 4s 8ms/step - loss: 0.0062 - accuracy: 0.9977 - val_loss: 0.7513 - val_accuracy: 0.9091\n",
            "Epoch 53/300\n",
            "529/529 [==============================] - 4s 8ms/step - loss: 0.0083 - accuracy: 0.9973 - val_loss: 0.5633 - val_accuracy: 0.9063\n",
            "Epoch 54/300\n",
            "529/529 [==============================] - 4s 7ms/step - loss: 0.0055 - accuracy: 0.9981 - val_loss: 0.4435 - val_accuracy: 0.9284\n",
            "Epoch 55/300\n",
            "529/529 [==============================] - 4s 7ms/step - loss: 0.0063 - accuracy: 0.9979 - val_loss: 0.4157 - val_accuracy: 0.9201\n",
            "Epoch 56/300\n",
            "529/529 [==============================] - 4s 8ms/step - loss: 0.0067 - accuracy: 0.9976 - val_loss: 0.4807 - val_accuracy: 0.9256\n",
            "Epoch 57/300\n",
            "529/529 [==============================] - 4s 8ms/step - loss: 0.0047 - accuracy: 0.9985 - val_loss: 0.6956 - val_accuracy: 0.9008\n",
            "Epoch 58/300\n",
            "529/529 [==============================] - 4s 8ms/step - loss: 0.0078 - accuracy: 0.9972 - val_loss: 0.4838 - val_accuracy: 0.9174\n",
            "Epoch 59/300\n",
            "529/529 [==============================] - 4s 8ms/step - loss: 0.0097 - accuracy: 0.9966 - val_loss: 0.7331 - val_accuracy: 0.9063\n",
            "Epoch 60/300\n",
            "529/529 [==============================] - 4s 8ms/step - loss: 0.0033 - accuracy: 0.9989 - val_loss: 0.6059 - val_accuracy: 0.9201\n",
            "Epoch 61/300\n",
            "529/529 [==============================] - 4s 8ms/step - loss: 0.0052 - accuracy: 0.9983 - val_loss: 0.6020 - val_accuracy: 0.9118\n",
            "Epoch 62/300\n",
            "529/529 [==============================] - 4s 8ms/step - loss: 0.0073 - accuracy: 0.9974 - val_loss: 0.5794 - val_accuracy: 0.9146\n",
            "Epoch 63/300\n",
            "529/529 [==============================] - 4s 8ms/step - loss: 0.0073 - accuracy: 0.9975 - val_loss: 0.4894 - val_accuracy: 0.9229\n",
            "Epoch 64/300\n",
            "529/529 [==============================] - 4s 8ms/step - loss: 0.0036 - accuracy: 0.9988 - val_loss: 0.5179 - val_accuracy: 0.9201\n",
            "Epoch 65/300\n",
            "529/529 [==============================] - 4s 7ms/step - loss: 0.0060 - accuracy: 0.9979 - val_loss: 0.4697 - val_accuracy: 0.9256\n",
            "Epoch 66/300\n",
            "529/529 [==============================] - 4s 8ms/step - loss: 0.0052 - accuracy: 0.9982 - val_loss: 0.5008 - val_accuracy: 0.9118\n",
            "Epoch 67/300\n",
            "529/529 [==============================] - 4s 8ms/step - loss: 0.0042 - accuracy: 0.9987 - val_loss: 0.5104 - val_accuracy: 0.9091\n",
            "Epoch 68/300\n",
            "529/529 [==============================] - 4s 8ms/step - loss: 0.0071 - accuracy: 0.9977 - val_loss: 0.4986 - val_accuracy: 0.9284\n",
            "Epoch 69/300\n",
            "529/529 [==============================] - 4s 8ms/step - loss: 0.0051 - accuracy: 0.9985 - val_loss: 0.7596 - val_accuracy: 0.8981\n",
            "Epoch 70/300\n",
            "529/529 [==============================] - 4s 8ms/step - loss: 0.0036 - accuracy: 0.9989 - val_loss: 0.6158 - val_accuracy: 0.8926\n",
            "Epoch 71/300\n",
            "529/529 [==============================] - 4s 8ms/step - loss: 0.0064 - accuracy: 0.9977 - val_loss: 0.6795 - val_accuracy: 0.8981\n",
            "Epoch 72/300\n",
            "529/529 [==============================] - 4s 8ms/step - loss: 0.0037 - accuracy: 0.9988 - val_loss: 0.5151 - val_accuracy: 0.9284\n",
            "Epoch 73/300\n",
            "529/529 [==============================] - 4s 8ms/step - loss: 0.0061 - accuracy: 0.9979 - val_loss: 0.4878 - val_accuracy: 0.9256\n",
            "Epoch 74/300\n",
            "529/529 [==============================] - 4s 8ms/step - loss: 0.0027 - accuracy: 0.9991 - val_loss: 0.5654 - val_accuracy: 0.9201\n",
            "Epoch 75/300\n",
            "529/529 [==============================] - 4s 7ms/step - loss: 0.0029 - accuracy: 0.9992 - val_loss: 0.5580 - val_accuracy: 0.9036\n",
            "Epoch 76/300\n",
            "529/529 [==============================] - 4s 7ms/step - loss: 0.0052 - accuracy: 0.9983 - val_loss: 0.5171 - val_accuracy: 0.9311\n",
            "Epoch 77/300\n",
            "529/529 [==============================] - 4s 7ms/step - loss: 0.0058 - accuracy: 0.9980 - val_loss: 0.6036 - val_accuracy: 0.9091\n",
            "Epoch 78/300\n",
            "529/529 [==============================] - 4s 7ms/step - loss: 0.0050 - accuracy: 0.9985 - val_loss: 0.5627 - val_accuracy: 0.9174\n",
            "Epoch 79/300\n",
            "529/529 [==============================] - 4s 7ms/step - loss: 0.0029 - accuracy: 0.9988 - val_loss: 0.6616 - val_accuracy: 0.9229\n",
            "Epoch 80/300\n",
            "529/529 [==============================] - 4s 7ms/step - loss: 0.0029 - accuracy: 0.9988 - val_loss: 0.6937 - val_accuracy: 0.9091\n",
            "Epoch 81/300\n",
            "529/529 [==============================] - 4s 7ms/step - loss: 0.0074 - accuracy: 0.9973 - val_loss: 0.5801 - val_accuracy: 0.9174\n",
            "Epoch 82/300\n",
            "529/529 [==============================] - 4s 8ms/step - loss: 0.0030 - accuracy: 0.9991 - val_loss: 1.5630 - val_accuracy: 0.8815\n",
            "Epoch 83/300\n",
            "529/529 [==============================] - 4s 8ms/step - loss: 0.0051 - accuracy: 0.9982 - val_loss: 0.7643 - val_accuracy: 0.9063\n",
            "Epoch 84/300\n",
            "529/529 [==============================] - 4s 8ms/step - loss: 0.0050 - accuracy: 0.9982 - val_loss: 0.6764 - val_accuracy: 0.9146\n",
            "Epoch 85/300\n",
            "529/529 [==============================] - 4s 8ms/step - loss: 0.0035 - accuracy: 0.9988 - val_loss: 0.6898 - val_accuracy: 0.9036\n",
            "Epoch 86/300\n",
            "529/529 [==============================] - 4s 8ms/step - loss: 0.0037 - accuracy: 0.9988 - val_loss: 0.7409 - val_accuracy: 0.9091\n",
            "Epoch 87/300\n",
            "529/529 [==============================] - 4s 8ms/step - loss: 0.0077 - accuracy: 0.9976 - val_loss: 0.6461 - val_accuracy: 0.9174\n",
            "Epoch 88/300\n",
            "529/529 [==============================] - 4s 8ms/step - loss: 0.0022 - accuracy: 0.9993 - val_loss: 0.6540 - val_accuracy: 0.9201\n",
            "Epoch 89/300\n",
            "529/529 [==============================] - 4s 8ms/step - loss: 0.0033 - accuracy: 0.9988 - val_loss: 0.7185 - val_accuracy: 0.9091\n",
            "Epoch 90/300\n",
            "529/529 [==============================] - 4s 8ms/step - loss: 0.0051 - accuracy: 0.9982 - val_loss: 0.6030 - val_accuracy: 0.9311\n",
            "Epoch 91/300\n",
            "529/529 [==============================] - 4s 7ms/step - loss: 0.0046 - accuracy: 0.9984 - val_loss: 0.6441 - val_accuracy: 0.9201\n",
            "Epoch 92/300\n",
            "529/529 [==============================] - 4s 8ms/step - loss: 0.0024 - accuracy: 0.9994 - val_loss: 0.7554 - val_accuracy: 0.9174\n",
            "Epoch 93/300\n",
            "529/529 [==============================] - 4s 8ms/step - loss: 0.0030 - accuracy: 0.9990 - val_loss: 0.8034 - val_accuracy: 0.9008\n",
            "Epoch 94/300\n",
            "529/529 [==============================] - 4s 8ms/step - loss: 0.0021 - accuracy: 0.9992 - val_loss: 0.7350 - val_accuracy: 0.9174\n",
            "Epoch 95/300\n",
            "529/529 [==============================] - 4s 8ms/step - loss: 0.0055 - accuracy: 0.9982 - val_loss: 0.7858 - val_accuracy: 0.9063\n",
            "Epoch 96/300\n",
            "529/529 [==============================] - 4s 8ms/step - loss: 0.0044 - accuracy: 0.9985 - val_loss: 0.6523 - val_accuracy: 0.9091\n"
          ]
        }
      ]
    },
    {
      "cell_type": "code",
      "metadata": {
        "id": "ATgjnTr8AhMJ",
        "colab": {
          "base_uri": "https://localhost:8080/",
          "height": 573
        },
        "outputId": "151d0008-4800-4b4d-d10b-0917b9c0fb99"
      },
      "source": [
        "# plotting\n",
        "\n",
        "loss = history.history['loss']\n",
        "val_loss = history.history['val_loss']\n",
        "epochs = range(1, len(loss) + 1)\n",
        "plt.plot(epochs, loss, 'y', label='Training loss')\n",
        "plt.plot(epochs, val_loss, 'r', label='Validation loss')\n",
        "plt.title('Training and validation loss')\n",
        "plt.xlabel('Epochs')\n",
        "plt.ylabel('Loss')\n",
        "plt.legend()\n",
        "plt.show()\n",
        "\n",
        "\n",
        "acc = history.history['accuracy']\n",
        "val_acc = history.history['val_accuracy']\n",
        "plt.plot(epochs, acc, 'y', label='Training acc')\n",
        "plt.plot(epochs, val_acc, 'r', label='Validation acc')\n",
        "plt.title('Training and validation accuracy')\n",
        "plt.xlabel('Epochs')\n",
        "plt.ylabel('Accuracy')\n",
        "plt.legend()\n",
        "plt.show()\n"
      ],
      "execution_count": null,
      "outputs": [
        {
          "output_type": "display_data",
          "data": {
            "text/plain": [
              "<Figure size 432x288 with 1 Axes>"
            ],
            "image/png": "[encoded data removed]"
          },
          "metadata": {
            "needs_background": "light"
          }
        },
        {
          "output_type": "display_data",
          "data": {
            "text/plain": [
              "<Figure size 432x288 with 1 Axes>"
            ],
            "image/png": "[encoded data removed]"
          },
          "metadata": {
            "needs_background": "light"
          }
        }
      ]
    },
    {
      "cell_type": "code",
      "metadata": {
        "id": "cdxiCENlAhJg",
        "colab": {
          "base_uri": "https://localhost:8080/",
          "height": 699
        },
        "outputId": "c9e878a7-b17b-45dd-f580-7da297a2d0c7"
      },
      "source": [
        "n=45  #Select the index of image to be loaded for testing\n",
        "img = (x_val[n]).astype(np.uint16)\n",
        "#img = cv2.cvtColor(img, cv2.COLOR_BGR2RGB)\n",
        "plt.figure(figsize=(3,3))\n",
        "plt.imshow(img)\n",
        "plt.show()\n",
        "\n",
        "\n",
        "input_img = np.expand_dims(img, axis=0) #Expand dims so the input is (num images, x, y, c)\n",
        "print(\"The prediction for this image is: \", model.predict(input_img))\n",
        "print(\"The actual label for this image is: \", y_val[n])\n",
        "\n",
        "\n",
        "_, acc = model.evaluate(x_val, y_val)\n",
        "print(\"Accuracy = \", (acc * 100.0), \"%\")\n",
        "\n",
        "\n",
        "################################################################\n",
        "mythreshold = 0.14\n",
        "################################################################\n",
        "\n",
        "\n",
        "from sklearn.metrics import confusion_matrix\n",
        "\n",
        "y_pred = (model.predict(x_val)>= mythreshold).astype(int)\n",
        "cm = confusion_matrix(y_val, y_pred)  \n",
        "print(cm)\n",
        "\n",
        "Recall = (cm[0,0] / (cm[0,0] + cm[0,1]))\n",
        "print(\"Recall = \", Recall)\n",
        "\n",
        "Precision = (cm[0,0] / (cm[0,0] + cm[1,0]))\n",
        "print(\"Precision = \", Precision)\n",
        "\n",
        "F_measure = (2 * Recall * Precision) / (Recall + Precision)\n",
        "print(\"F_measure = \", F_measure )\n",
        "\n",
        "\n",
        "#ROC\n",
        "from sklearn.metrics import roc_curve\n",
        "y_preds = model.predict(x_val).ravel()\n",
        "\n",
        "fpr, tpr, thresholds = roc_curve(y_val, y_preds)\n",
        "\n",
        "plt.figure(1)\n",
        "plt.plot([0, 1], [0, 1], 'y--')\n",
        "plt.plot(fpr, tpr, marker='.')\n",
        "plt.xlabel('False positive rate')\n",
        "plt.ylabel('True positive rate')\n",
        "plt.title('ROC curve')\n",
        "plt.show()\n",
        "\n",
        "\"\"\"\n",
        "#One way to find the best threshold once we calculate the true positive \n",
        "and false positive rates is ...\n",
        "The optimal cut off point would be where “true positive rate” is high \n",
        "and the “false positive rate” is low. \n",
        "Based on this logic let us find the threshold where tpr-(1-fpr) is zero (or close to 0)\n",
        "\"\"\"\n",
        "import pandas as pd\n",
        "i = np.arange(len(tpr)) \n",
        "roc = pd.DataFrame({'tf' : pd.Series(tpr-(1-fpr), index=i), 'thresholds' : pd.Series(thresholds, index=i)})\n",
        "ideal_roc_thresh = roc.iloc[(roc.tf-0).abs().argsort()[:1]]  #Locate the point where the value is close to 0\n",
        "print(\"Ideal threshold is: \", ideal_roc_thresh['thresholds']) \n",
        "\n",
        "\n",
        "#Area under the curve (AUC) for ROC plot \n",
        "\n",
        "from sklearn.metrics import auc\n",
        "auc_value = auc(fpr, tpr)\n",
        "print(\"Area under curve, AUC = \", auc_value)\n"
      ],
      "execution_count": null,
      "outputs": [
        {
          "output_type": "display_data",
          "data": {
            "text/plain": [
              "<Figure size 216x216 with 1 Axes>"
            ],
            "image/png": "[encoded data removed]"
          },
          "metadata": {
            "needs_background": "light"
          }
        },
        {
          "output_type": "stream",
          "name": "stdout",
          "text": [
            "The prediction for this image is:  [[4.8440583e-08]]\n",
            "The actual label for this image is:  0.0\n",
            "12/12 [==============================] - 0s 5ms/step - loss: 0.3125 - accuracy: 0.9394\n",
            "Accuracy =  93.9393937587738 %\n",
            "[[205  15]\n",
            " [ 11 132]]\n",
            "Recall =  0.9318181818181818\n",
            "Precision =  0.9490740740740741\n",
            "F_measure =  0.9403669724770641\n"
          ]
        },
        {
          "output_type": "display_data",
          "data": {
            "text/plain": [
              "<Figure size 432x288 with 1 Axes>"
            ],
            "image/png": "[encoded data removed]"
          },
          "metadata": {
            "needs_background": "light"
          }
        },
        {
          "output_type": "stream",
          "name": "stdout",
          "text": [
            "Ideal threshold is:  30    0.136178\n",
            "Name: thresholds, dtype: float32\n",
            "Area under curve, AUC =  0.9830896376350922\n"
          ]
        }
      ]
    }
  ]
}